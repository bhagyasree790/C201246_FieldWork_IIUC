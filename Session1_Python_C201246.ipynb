{
  "nbformat": 4,
  "nbformat_minor": 0,
  "metadata": {
    "colab": {
      "provenance": []
    },
    "kernelspec": {
      "name": "python3",
      "display_name": "Python 3"
    },
    "language_info": {
      "name": "python"
    }
  },
  "cells": [
    {
      "cell_type": "markdown",
      "source": [
        "#Assignment 1: Create two variables, one holding a number and the other holding your name. Then print both."
      ],
      "metadata": {
        "id": "zve5ElnG7i1M"
      }
    },
    {
      "cell_type": "code",
      "execution_count": null,
      "metadata": {
        "colab": {
          "base_uri": "https://localhost:8080/"
        },
        "id": "d62ZL7Vo7RFz",
        "outputId": "c362b038-acd0-4046-d1c5-54105f9868a6"
      },
      "outputs": [
        {
          "output_type": "stream",
          "name": "stdout",
          "text": [
            "Age:  24 and Name:  Bhagyasree Sarker\n"
          ]
        }
      ],
      "source": [
        "age = 24\n",
        "name = \"Bhagyasree Sarker\"\n",
        "print(\"Age: \", age, end=\" and \")\n",
        "print(\"Name: \", name)"
      ]
    },
    {
      "cell_type": "markdown",
      "source": [
        "#Assignment 2: Create variables of different types and use the type() function to check their types."
      ],
      "metadata": {
        "id": "GIWgDjAg71Ch"
      }
    },
    {
      "cell_type": "code",
      "source": [
        "a = 73\n",
        "b = 53.14\n",
        "c = \"Python\"\n",
        "d = True\n",
        "print(type(a))\n",
        "print(type(b))\n",
        "print(type(c))\n",
        "print(type(d))"
      ],
      "metadata": {
        "colab": {
          "base_uri": "https://localhost:8080/"
        },
        "id": "rlDE-6EJ70Tn",
        "outputId": "b9005cfe-7e7c-46f7-e264-2f045fcd1356"
      },
      "execution_count": null,
      "outputs": [
        {
          "output_type": "stream",
          "name": "stdout",
          "text": [
            "<class 'int'>\n",
            "<class 'float'>\n",
            "<class 'str'>\n",
            "<class 'bool'>\n"
          ]
        }
      ]
    },
    {
      "cell_type": "markdown",
      "source": [
        "#Assignment 3: Fix the bad variable name above and create three more variables with good naming practices."
      ],
      "metadata": {
        "id": "FIME5coj8Mgx"
      }
    },
    {
      "cell_type": "code",
      "source": [
        "bad2 = 21\n",
        "bad_3 = 12\n",
        "b3a3d5 = 45"
      ],
      "metadata": {
        "id": "ND3LtIQR8SXw"
      },
      "execution_count": null,
      "outputs": []
    },
    {
      "cell_type": "markdown",
      "source": [
        "#Assignment 4: Create a variable, assign it a value of one type, then reassign it to a different type and print both."
      ],
      "metadata": {
        "id": "DbEf3hGc8itx"
      }
    },
    {
      "cell_type": "code",
      "source": [
        "var = \"This is a string\"\n",
        "print(var)\n",
        "\n",
        "var = 46\n",
        "print(var)"
      ],
      "metadata": {
        "colab": {
          "base_uri": "https://localhost:8080/"
        },
        "id": "foKqZxPg8h63",
        "outputId": "5024473c-7983-4e0e-fe41-f340bfeed164"
      },
      "execution_count": null,
      "outputs": [
        {
          "output_type": "stream",
          "name": "stdout",
          "text": [
            "This is a string\n",
            "46\n"
          ]
        }
      ]
    },
    {
      "cell_type": "markdown",
      "source": [
        "#Assignment 5: Create a 2D list representing a 3x3 matrix and perform operations like accessing, modifying, and iterating through it."
      ],
      "metadata": {
        "id": "wz_U6rAt8yDw"
      }
    },
    {
      "cell_type": "code",
      "source": [
        "matrix = [\n",
        "    [1, 2, 3],\n",
        "    [4, 5, 6],\n",
        "    [7, 8, 9]\n",
        "]"
      ],
      "metadata": {
        "id": "3CXpPAFE8_NI"
      },
      "execution_count": 1,
      "outputs": []
    },
    {
      "cell_type": "code",
      "source": [
        "element_1_2 = matrix[0][1]  # First row, second column\n",
        "element_2_3 = matrix[1][2]  # Second row, third column\n",
        "print(f\"Element at (0, 1): {element_1_2}\")\n",
        "print(f\"Element at (1, 2): {element_2_3}\")"
      ],
      "metadata": {
        "colab": {
          "base_uri": "https://localhost:8080/"
        },
        "id": "NcuZGqT6CFuN",
        "outputId": "e6b04ec8-d8df-4bcd-bf64-69e78a056d2f"
      },
      "execution_count": 2,
      "outputs": [
        {
          "output_type": "stream",
          "name": "stdout",
          "text": [
            "Element at (0, 1): 2\n",
            "Element at (1, 2): 6\n"
          ]
        }
      ]
    },
    {
      "cell_type": "code",
      "source": [
        "print(\"Before modification:\", matrix)\n",
        "matrix[1][1] = 99  # Modify the center element (second row, second column)\n",
        "print(\"After modification:\", matrix)"
      ],
      "metadata": {
        "colab": {
          "base_uri": "https://localhost:8080/"
        },
        "id": "9PZRd9ujCQUH",
        "outputId": "687baa33-1881-4a4d-efb1-3d8afd6d7d06"
      },
      "execution_count": 3,
      "outputs": [
        {
          "output_type": "stream",
          "name": "stdout",
          "text": [
            "Before modification: [[1, 2, 3], [4, 5, 6], [7, 8, 9]]\n",
            "After modification: [[1, 2, 3], [4, 99, 6], [7, 8, 9]]\n"
          ]
        }
      ]
    },
    {
      "cell_type": "code",
      "source": [
        "for i, row in enumerate(matrix):  #iterating row by row\n",
        "    print(f\"Row {i}: {row}\")"
      ],
      "metadata": {
        "colab": {
          "base_uri": "https://localhost:8080/"
        },
        "id": "Qniy-P-jCWMG",
        "outputId": "ed65a578-20ad-4ecb-a9cd-c1e7d2601d1d"
      },
      "execution_count": 4,
      "outputs": [
        {
          "output_type": "stream",
          "name": "stdout",
          "text": [
            "Row 0: [1, 2, 3]\n",
            "Row 1: [4, 99, 6]\n",
            "Row 2: [7, 8, 9]\n"
          ]
        }
      ]
    },
    {
      "cell_type": "code",
      "source": [
        "for i in range(len(matrix)):         # Iterating through rows\n",
        "    for j in range(len(matrix[i])):  # Iterating through columns\n",
        "        print(f\"Element at ({i}, {j}): {matrix[i][j]}\")"
      ],
      "metadata": {
        "colab": {
          "base_uri": "https://localhost:8080/"
        },
        "id": "8KJzJfDJCkn0",
        "outputId": "dde6bf35-3165-4c0b-dde8-17edc9b26518"
      },
      "execution_count": 5,
      "outputs": [
        {
          "output_type": "stream",
          "name": "stdout",
          "text": [
            "Element at (0, 0): 1\n",
            "Element at (0, 1): 2\n",
            "Element at (0, 2): 3\n",
            "Element at (1, 0): 4\n",
            "Element at (1, 1): 99\n",
            "Element at (1, 2): 6\n",
            "Element at (2, 0): 7\n",
            "Element at (2, 1): 8\n",
            "Element at (2, 2): 9\n"
          ]
        }
      ]
    },
    {
      "cell_type": "markdown",
      "source": [
        "###Adding new row"
      ],
      "metadata": {
        "id": "Gf0Nr3TvCv8t"
      }
    },
    {
      "cell_type": "code",
      "source": [
        "new_row = [10, 11, 12]\n",
        "matrix.append(new_row)\n",
        "print(\"After adding a new row:\", matrix)"
      ],
      "metadata": {
        "colab": {
          "base_uri": "https://localhost:8080/"
        },
        "id": "CDkfSMdwCq_X",
        "outputId": "ad76f851-bee9-40de-fa27-67aab89634e1"
      },
      "execution_count": 6,
      "outputs": [
        {
          "output_type": "stream",
          "name": "stdout",
          "text": [
            "After adding a new row: [[1, 2, 3], [4, 99, 6], [7, 8, 9], [10, 11, 12]]\n"
          ]
        }
      ]
    },
    {
      "cell_type": "markdown",
      "source": [
        "###Removing row"
      ],
      "metadata": {
        "id": "G7k1jSDQC6UR"
      }
    },
    {
      "cell_type": "code",
      "source": [
        "removed_row = matrix.pop()\n",
        "print(\"Removed row:\", removed_row)\n",
        "print(\"After removing the last row:\", matrix)"
      ],
      "metadata": {
        "colab": {
          "base_uri": "https://localhost:8080/"
        },
        "id": "2_jicPHfC1yQ",
        "outputId": "598da5f6-fe21-481b-d48a-9e2d6f034abb"
      },
      "execution_count": 7,
      "outputs": [
        {
          "output_type": "stream",
          "name": "stdout",
          "text": [
            "Removed row: [10, 11, 12]\n",
            "After removing the last row: [[1, 2, 3], [4, 99, 6], [7, 8, 9]]\n"
          ]
        }
      ]
    },
    {
      "cell_type": "markdown",
      "source": [
        "#Assignment 6:Create a tuple with mixed data types and demonstrate its potential use cases in data structures like dictionaries."
      ],
      "metadata": {
        "id": "s64d12VtDEC9"
      }
    },
    {
      "cell_type": "code",
      "source": [
        "person_info = (\"Bhagyasree Sarker\", 24, \"Student\", True)\n",
        "print(person_info)"
      ],
      "metadata": {
        "colab": {
          "base_uri": "https://localhost:8080/"
        },
        "id": "MoGbStFGDUPI",
        "outputId": "598be003-10f7-454e-ead0-6fb90b27f377"
      },
      "execution_count": 9,
      "outputs": [
        {
          "output_type": "stream",
          "name": "stdout",
          "text": [
            "('Bhagyasree Sarker', 24, 'Student', True)\n"
          ]
        }
      ]
    },
    {
      "cell_type": "code",
      "source": [
        "person_dict = {\n",
        "    person_info: {\"Salary\": 75000, \"Location\": \"New York\"}\n",
        "}"
      ],
      "metadata": {
        "id": "zdb5WLKzEQ-F"
      },
      "execution_count": 10,
      "outputs": []
    },
    {
      "cell_type": "code",
      "source": [
        "for key, value in person_dict.items():\n",
        "    print(f\"Key: {key} ; Value: {value}\")"
      ],
      "metadata": {
        "colab": {
          "base_uri": "https://localhost:8080/"
        },
        "id": "AtLjiepMEYKA",
        "outputId": "c672d273-6e34-45f2-dded-4f622703d1ee"
      },
      "execution_count": 14,
      "outputs": [
        {
          "output_type": "stream",
          "name": "stdout",
          "text": [
            "Key: ('Bhagyasree Sarker', 24, 'Student', True) ; Value: {'Salary': 75000, 'Location': 'New York'}\n"
          ]
        }
      ]
    },
    {
      "cell_type": "markdown",
      "source": [
        "#Assignment 7:Create a list of tuples, where each tuple contains a student's name and their grade. Sort this list by grades."
      ],
      "metadata": {
        "id": "Jk0HzNUUEw6H"
      }
    },
    {
      "cell_type": "code",
      "source": [
        "students = [\n",
        "    (\"Alice\", 88),\n",
        "    (\"Bob\", 75),\n",
        "    (\"Charlie\", 92),\n",
        "    (\"David\", 85),\n",
        "    (\"Eve\", 90),\n",
        "    (\"Frank\", 78)\n",
        "]"
      ],
      "metadata": {
        "id": "zT636WEIFFnT"
      },
      "execution_count": 15,
      "outputs": []
    },
    {
      "cell_type": "code",
      "source": [
        "print(students)"
      ],
      "metadata": {
        "colab": {
          "base_uri": "https://localhost:8080/"
        },
        "id": "v9DJY-O8FM3r",
        "outputId": "f93cfdd5-7ec2-4da2-b0af-2ac3e1d813b9"
      },
      "execution_count": 16,
      "outputs": [
        {
          "output_type": "stream",
          "name": "stdout",
          "text": [
            "[('Alice', 88), ('Bob', 75), ('Charlie', 92), ('David', 85), ('Eve', 90), ('Frank', 78)]\n"
          ]
        }
      ]
    },
    {
      "cell_type": "code",
      "source": [
        "sorted_students = sorted(students, key=lambda x: x[1]) #Sort the list by grades"
      ],
      "metadata": {
        "id": "Hjx850PqFOoH"
      },
      "execution_count": 18,
      "outputs": []
    },
    {
      "cell_type": "code",
      "source": [
        "print(sorted_students)"
      ],
      "metadata": {
        "colab": {
          "base_uri": "https://localhost:8080/"
        },
        "id": "doC42N1MFXlA",
        "outputId": "c1274405-8d72-464b-e906-1cb0c05391d0"
      },
      "execution_count": 19,
      "outputs": [
        {
          "output_type": "stream",
          "name": "stdout",
          "text": [
            "[('Bob', 75), ('Frank', 78), ('David', 85), ('Alice', 88), ('Eve', 90), ('Charlie', 92)]\n"
          ]
        }
      ]
    },
    {
      "cell_type": "code",
      "source": [
        "for name, grade in sorted_students:\n",
        "    print(f\"Student: {name}, Grade: {grade}\")"
      ],
      "metadata": {
        "colab": {
          "base_uri": "https://localhost:8080/"
        },
        "id": "JsfW4g1NFa27",
        "outputId": "20b06ece-acb5-47b5-89d0-2e782f13119d"
      },
      "execution_count": 20,
      "outputs": [
        {
          "output_type": "stream",
          "name": "stdout",
          "text": [
            "Student: Bob, Grade: 75\n",
            "Student: Frank, Grade: 78\n",
            "Student: David, Grade: 85\n",
            "Student: Alice, Grade: 88\n",
            "Student: Eve, Grade: 90\n",
            "Student: Charlie, Grade: 92\n"
          ]
        }
      ]
    },
    {
      "cell_type": "markdown",
      "source": [
        "#Assignment 8: Create a dictionary representing a student with keys like 'name', 'roll_number', 'grades' (a list of subjects and marks)."
      ],
      "metadata": {
        "id": "QZbqFCxnFlOr"
      }
    },
    {
      "cell_type": "code",
      "source": [
        "student = {\n",
        "    \"name\": \"Bhagyasree Sarker\",\n",
        "    \"roll_number\": 201246,\n",
        "    \"grades\": [  # List of tuples (Subject, Marks)\n",
        "        (\"Data Structure\", 95),\n",
        "        (\"Algorithm\", 88),\n",
        "        (\"Mechine Learing\", 92),\n",
        "        (\"Image Processing\", 85),\n",
        "        (\"Data Communitcation\", 98)\n",
        "    ]\n",
        "}\n",
        "\n",
        "print(\"Name:\", student[\"name\"])\n",
        "print(\"Roll Number:\", student[\"roll_number\"])\n",
        "print(\"Grades:\")\n",
        "for subject, marks in student[\"grades\"]:\n",
        "    print(f\"  {subject}: {marks}\")"
      ],
      "metadata": {
        "colab": {
          "base_uri": "https://localhost:8080/"
        },
        "id": "bpkaZBTSGN2F",
        "outputId": "02004bd4-eab3-4160-a383-01a1af9b3086"
      },
      "execution_count": 25,
      "outputs": [
        {
          "output_type": "stream",
          "name": "stdout",
          "text": [
            "Name: Bhagyasree Sarker\n",
            "Roll Number: 201246\n",
            "Grades:\n",
            "  Data Structure: 95\n",
            "  Algorithm: 88\n",
            "  Mechine Learing: 92\n",
            "  Image Processing: 85\n",
            "  Data Communitcation: 98\n"
          ]
        }
      ]
    },
    {
      "cell_type": "markdown",
      "source": [
        "#Assignment 9: Create a dictionary where keys are student names and values are lists of grades. Calculate the average grade for each student."
      ],
      "metadata": {
        "id": "YMhNT-jDHZxu"
      }
    },
    {
      "cell_type": "code",
      "source": [
        "students_grades = {\n",
        "    \"Alice\": [85, 90, 78, 92],\n",
        "    \"Bob\": [70, 75, 80, 65],\n",
        "    \"Charlie\": [88, 85, 90, 87],\n",
        "    \"David\": [60, 65, 70, 72],\n",
        "    \"Eve\": [95, 93, 97, 98]\n",
        "}\n",
        "\n",
        "for student, grades in students_grades.items():\n",
        "    print(f\"{student}: {grades}\")"
      ],
      "metadata": {
        "colab": {
          "base_uri": "https://localhost:8080/"
        },
        "id": "v0Us99RvHta-",
        "outputId": "aa242ae7-2100-4524-acda-79feac168290"
      },
      "execution_count": 28,
      "outputs": [
        {
          "output_type": "stream",
          "name": "stdout",
          "text": [
            "Alice: [85, 90, 78, 92]\n",
            "Bob: [70, 75, 80, 65]\n",
            "Charlie: [88, 85, 90, 87]\n",
            "David: [60, 65, 70, 72]\n",
            "Eve: [95, 93, 97, 98]\n"
          ]
        }
      ]
    },
    {
      "cell_type": "code",
      "source": [
        "for student, grades in students_grades.items():\n",
        "    average = sum(grades) / len(grades)  # Calculate average\n",
        "    print(f\"{student}: Average Grade = {average:.2f}\")"
      ],
      "metadata": {
        "colab": {
          "base_uri": "https://localhost:8080/"
        },
        "id": "rQI8P-pBHRBA",
        "outputId": "b65a9ca6-5db4-4592-d6dc-2d87e88d8628"
      },
      "execution_count": 29,
      "outputs": [
        {
          "output_type": "stream",
          "name": "stdout",
          "text": [
            "Alice: Average Grade = 86.25\n",
            "Bob: Average Grade = 72.50\n",
            "Charlie: Average Grade = 87.50\n",
            "David: Average Grade = 66.75\n",
            "Eve: Average Grade = 95.75\n"
          ]
        }
      ]
    },
    {
      "cell_type": "markdown",
      "source": [
        "#Assignment 10: Create a string that contains a simple bio data like name, age, and country. Extract each piece of information and print them separately."
      ],
      "metadata": {
        "id": "qqXVAGzoH3Wn"
      }
    },
    {
      "cell_type": "code",
      "source": [
        "data = \"Name: Bhagyasree Sarker, Age: 24, Country: Bangladesh\""
      ],
      "metadata": {
        "id": "jTA8bxNHIGAY"
      },
      "execution_count": 30,
      "outputs": []
    },
    {
      "cell_type": "code",
      "source": [
        "splite_parts = data.split(\",\")\n",
        "\n",
        "name = splite_parts[0].split(\":\")[1].strip()   # Extract name\n",
        "age = splite_parts[1].split(\":\")[1].strip()    # Extract age\n",
        "country = splite_parts[2].split(\":\")[1].strip()  # Extract country"
      ],
      "metadata": {
        "id": "nGFj9I5LIY_-"
      },
      "execution_count": 31,
      "outputs": []
    },
    {
      "cell_type": "code",
      "source": [
        "print(\"Extracted Information:\")\n",
        "print(f\"Name: {name}\")\n",
        "print(f\"Age: {age}\")\n",
        "print(f\"Country: {country}\")"
      ],
      "metadata": {
        "colab": {
          "base_uri": "https://localhost:8080/"
        },
        "id": "oWfxPdmXInzm",
        "outputId": "e33ae7e9-9f1c-47fb-a9d7-4c05a1bdc4a1"
      },
      "execution_count": 32,
      "outputs": [
        {
          "output_type": "stream",
          "name": "stdout",
          "text": [
            "Extracted Information:\n",
            "Name: Bhagyasree Sarker\n",
            "Age: 24\n",
            "Country: Bangladesh\n"
          ]
        }
      ]
    },
    {
      "cell_type": "markdown",
      "source": [
        "#Assignment 11: Create a formatted string that includes data from a list or dictionary. For example, use a dictionary to store a person's information and format a string to include it."
      ],
      "metadata": {
        "id": "WCfZ7GZRIr1r"
      }
    },
    {
      "cell_type": "code",
      "source": [
        "person_info = {\n",
        "    \"name\": \"Bhagyasree Sarker\",\n",
        "    \"age\": 24,\n",
        "    \"country\": \"Bangladesh\",\n",
        "    \"profession\": \"Bekar\"\n",
        "}\n",
        "\n",
        "formatted_string = (\n",
        "    f\"Hello, my name is {person_info['name']} and I am {person_info['age']} years old. I'm from {person_info['country']} and that's why I'm {person_info['profession']} till now.\"\n",
        ")\n",
        "print(formatted_string)"
      ],
      "metadata": {
        "colab": {
          "base_uri": "https://localhost:8080/"
        },
        "id": "Y6EvcJo3I4b8",
        "outputId": "0840ae1f-89c5-446c-8fb0-9be9cdd75999"
      },
      "execution_count": 38,
      "outputs": [
        {
          "output_type": "stream",
          "name": "stdout",
          "text": [
            "Hello, my name is Bhagyasree Sarker and I am 24 years old. I'm from Bangladesh and that's why I'm Bekar till now.\n"
          ]
        }
      ]
    },
    {
      "cell_type": "markdown",
      "source": [
        "#Assignment 12: Write a function that takes a string and returns a dictionary with the counts of each character in the string."
      ],
      "metadata": {
        "id": "lPuo3SwXK3E9"
      }
    },
    {
      "cell_type": "code",
      "source": [
        "def char_count(s):\n",
        "    counts = {}\n",
        "    for char in s:\n",
        "        # Increment the count if the character already exists in the dictionary\n",
        "        if char in counts:\n",
        "            counts[char] += 1\n",
        "        else:\n",
        "            # Otherwise, initialize the count to 1\n",
        "            counts[char] = 1\n",
        "\n",
        "    return counts\n",
        "\n",
        "input_string = \"hello world\"\n",
        "result = char_count(input_string)\n",
        "\n",
        "print(\"Character counts:\", result)"
      ],
      "metadata": {
        "colab": {
          "base_uri": "https://localhost:8080/"
        },
        "id": "RgH8mPuKLL5R",
        "outputId": "8958daee-c951-4d4b-9cb2-6d09e9d32126"
      },
      "execution_count": 39,
      "outputs": [
        {
          "output_type": "stream",
          "name": "stdout",
          "text": [
            "Character counts: {'h': 1, 'e': 1, 'l': 3, 'o': 2, ' ': 1, 'w': 1, 'r': 1, 'd': 1}\n"
          ]
        }
      ]
    },
    {
      "cell_type": "markdown",
      "source": [
        "#Assignment 13: Write a regex to find the Bangladesh phone number with all variations.\n",
        "# 01454565767\n",
        "# +8801963456340\n",
        "# 0088785674657\n",
        "# 01845-567567"
      ],
      "metadata": {
        "id": "FE-JM9lxLfeY"
      }
    },
    {
      "cell_type": "code",
      "source": [
        "import re\n",
        "\n",
        "test_numbers = [\n",
        "    \"01454565767\",        # Valid\n",
        "    \"+8801963456340\",     # Valid\n",
        "    \"0088785674657\",      # Invalid\n",
        "    \"01845-567567\"        # Invalid\n",
        "]"
      ],
      "metadata": {
        "id": "26PdaGuDLdYD"
      },
      "execution_count": 70,
      "outputs": []
    },
    {
      "cell_type": "code",
      "source": [
        "pattern = r\"^(?:\\+8801|8801|01)[1-9]{1}[0-9]{7,8}(-[0-9]{6,7})?$\"\n",
        "\n",
        "# Check each phone number against the regex pattern\n",
        "# Check each number\n",
        "for number in test_numbers:\n",
        "    if re.match(pattern, number):\n",
        "        print(f\"{number}: Valid\")\n",
        "    else:\n",
        "        print(f\"{number}: Invalid\")"
      ],
      "metadata": {
        "colab": {
          "base_uri": "https://localhost:8080/"
        },
        "id": "cWY2PA05L6po",
        "outputId": "15a3c5a3-e196-42aa-e0f1-07b7acb7c7fc"
      },
      "execution_count": 71,
      "outputs": [
        {
          "output_type": "stream",
          "name": "stdout",
          "text": [
            "01454565767: Valid\n",
            "+8801963456340: Valid\n",
            "0088785674657: Invalid\n",
            "01845-567567: Invalid\n"
          ]
        }
      ]
    },
    {
      "cell_type": "markdown",
      "source": [
        "#Assignment 14:Write a Python script that determines if a number is positive, negative, or zero using if-elif-else."
      ],
      "metadata": {
        "id": "vY7n_szzMzfB"
      }
    },
    {
      "cell_type": "code",
      "source": [
        "def check_number(num):\n",
        "    if num > 0:\n",
        "        print(f\"{num} is positive.\")\n",
        "    elif num < 0:\n",
        "        print(f\"{num} is negative.\")\n",
        "    else:\n",
        "        print(f\"{num} is zero.\")\n",
        "\n",
        "number = float(input(\"Enter a number: \"))  # Taking input from the user\n",
        "check_number(number)"
      ],
      "metadata": {
        "colab": {
          "base_uri": "https://localhost:8080/"
        },
        "id": "89p2wW4FQsLR",
        "outputId": "8e08567e-2fb5-4b4f-f2e5-0c6b14af2d6c"
      },
      "execution_count": 78,
      "outputs": [
        {
          "output_type": "stream",
          "name": "stdout",
          "text": [
            "Enter a number: -9.8\n",
            "-9.8 is negative.\n"
          ]
        }
      ]
    },
    {
      "cell_type": "markdown",
      "source": [
        "#Assignment 15: Create a script that checks if a person is eligible for a senior citizen discount based on age and residency."
      ],
      "metadata": {
        "id": "TzDSQbXJQ7F3"
      }
    },
    {
      "cell_type": "code",
      "source": [
        "def check_senior_discount(age, is_resident):\n",
        "    # Check if age is 60 or older and if the person is a resident\n",
        "    if age >= 60 and is_resident:\n",
        "        print(\"You are eligible for a senior citizen discount!\")\n",
        "    elif age >= 60 and not is_resident:\n",
        "        print(\"You are 60 or older, but you are not eligible for the discount as you are not a resident.\")\n",
        "    elif age < 60 and is_resident:\n",
        "        print(\"You are a resident, but you are not eligible for the senior citizen discount because you are under 60.\")\n",
        "    else:\n",
        "        print(\"You are not eligible for the senior citizen discount.\")\n",
        "\n",
        "age = int(input(\"Enter your age: \"))  # Get the age of the person\n",
        "residency = input(\"Are you a resident? (yes/no): \").lower()  # Get residency status (yes/no)\n",
        "\n",
        "is_resident = True if residency == 'yes' else False\n",
        "\n",
        "check_senior_discount(age, is_resident)"
      ],
      "metadata": {
        "colab": {
          "base_uri": "https://localhost:8080/"
        },
        "id": "3jgLLC0xRDED",
        "outputId": "087e3e94-5451-41dc-f6f2-718cbaff4ba1"
      },
      "execution_count": 75,
      "outputs": [
        {
          "output_type": "stream",
          "name": "stdout",
          "text": [
            "Enter your age: 65\n",
            "Are you a resident? (yes/no): yes\n",
            "You are eligible for a senior citizen discount!\n"
          ]
        }
      ]
    },
    {
      "cell_type": "markdown",
      "source": [
        "#Assignment 16:  Write a script that simulates a basic login system. Check username and password correctness."
      ],
      "metadata": {
        "id": "65vqY9hARi_v"
      }
    },
    {
      "cell_type": "code",
      "source": [
        "def login_system(correct_username, correct_password):\n",
        "    username = input(\"Enter your username: \")\n",
        "    password = input(\"Enter your password: \")\n",
        "\n",
        "    # Checking if username and password are correct\n",
        "    if username == correct_username and password == correct_password:\n",
        "        print(\"Login successful!\")\n",
        "    elif username != correct_username:\n",
        "        print(\"Invalid username. Please try again.\")\n",
        "    elif password != correct_password:\n",
        "        print(\"Incorrect password. Please try again.\")"
      ],
      "metadata": {
        "id": "jyrTyDQ2Rs9L"
      },
      "execution_count": 76,
      "outputs": []
    },
    {
      "cell_type": "code",
      "source": [
        "# Correct username and password\n",
        "correct_username = \"admin\"\n",
        "correct_password = \"password123\"\n",
        "\n",
        "login_system(correct_username, correct_password)"
      ],
      "metadata": {
        "colab": {
          "base_uri": "https://localhost:8080/"
        },
        "id": "D4yJ9TBxSEer",
        "outputId": "a1c7ec52-42d8-41bf-f8bb-e6e838cb7873"
      },
      "execution_count": 77,
      "outputs": [
        {
          "output_type": "stream",
          "name": "stdout",
          "text": [
            "Enter your username: admin\n",
            "Enter your password: password123\n",
            "Login successful!\n"
          ]
        }
      ]
    },
    {
      "cell_type": "markdown",
      "source": [
        "#Assignment 17: Implement a system that categorizes a day based on temperature and weather conditions."
      ],
      "metadata": {
        "id": "SxNx9p5kSMBc"
      }
    },
    {
      "cell_type": "code",
      "source": [
        "def categorize_day(temperature, weather_condition):\n",
        "    # Categorizing temperature\n",
        "    if temperature < 15:\n",
        "        temp_category = \"Cold\"\n",
        "    elif 15 <= temperature <= 25:\n",
        "        temp_category = \"Mild\"\n",
        "    else:\n",
        "        temp_category = \"Hot\"\n",
        "\n",
        "    # Categorizing weather conditions\n",
        "    if weather_condition.lower() == \"sunny\":\n",
        "        weather_category = \"Sunny\"\n",
        "    elif weather_condition.lower() == \"cloudy\":\n",
        "        weather_category = \"Cloudy\"\n",
        "    elif weather_condition.lower() == \"rainy\":\n",
        "        weather_category = \"Rainy\"\n",
        "    else:\n",
        "        weather_category = \"Unknown weather condition\"\n",
        "\n",
        "    print(f\"The day is {temp_category} and {weather_category}.\")\n",
        "\n",
        "temperature = float(input(\"Enter the temperature (in °C): \"))  # Temperature input\n",
        "weather_condition = input(\"Enter the weather condition (sunny/cloudy/rainy): \")  # Weather input\n",
        "\n",
        "categorize_day(temperature, weather_condition)"
      ],
      "metadata": {
        "colab": {
          "base_uri": "https://localhost:8080/"
        },
        "id": "gK_ztjvxSnGf",
        "outputId": "b0cce441-dc1a-4c70-97f0-4db361af53ff"
      },
      "execution_count": 80,
      "outputs": [
        {
          "output_type": "stream",
          "name": "stdout",
          "text": [
            "Enter the temperature (in °C): 22\n",
            "Enter the weather condition (sunny/cloudy/rainy): cloudy\n",
            "The day is Mild and Cloudy.\n"
          ]
        }
      ]
    },
    {
      "cell_type": "markdown",
      "source": [
        "#Assignment 18: Write a script that processes a list of temperature readings. If any temperature is above a certain threshold, print a warning."
      ],
      "metadata": {
        "id": "lJu_UQQyTSAO"
      }
    },
    {
      "cell_type": "code",
      "source": [
        "def process_temp(temperature_readings, threshold):\n",
        "    for temp in temperature_readings:\n",
        "        if temp > threshold:\n",
        "            print(f\"Warning: Temperature {temp}°C exceeds the threshold of {threshold}°C!\")\n",
        "\n",
        "temperature_readings = [22, 35, 28, 40, 15, 18, 42]\n",
        "\n",
        "threshold = 30\n",
        "\n",
        "# Process the temperatures\n",
        "process_temp(temperature_readings, threshold)"
      ],
      "metadata": {
        "colab": {
          "base_uri": "https://localhost:8080/"
        },
        "id": "R1lNuL0kV_xp",
        "outputId": "a7e1fa32-f49e-4564-d2b0-c512f757597b"
      },
      "execution_count": 81,
      "outputs": [
        {
          "output_type": "stream",
          "name": "stdout",
          "text": [
            "Warning: Temperature 35°C exceeds the threshold of 30°C!\n",
            "Warning: Temperature 40°C exceeds the threshold of 30°C!\n",
            "Warning: Temperature 42°C exceeds the threshold of 30°C!\n"
          ]
        }
      ]
    },
    {
      "cell_type": "markdown",
      "source": [
        "#Assignment 19: Create a script that processes a dictionary of products, checking stock levels and generating restock alerts if necessary."
      ],
      "metadata": {
        "id": "042JiwFlWX_5"
      }
    },
    {
      "cell_type": "code",
      "source": [
        "def check_stock(products, threshold):\n",
        "    for product, stock in products.items():\n",
        "        if stock < threshold:\n",
        "            print(f\"Alert: {product} is low on stock (only {stock} left). Consider restocking!\")\n",
        "        else:\n",
        "            print(f\"{product} is in stock with {stock} units.\")"
      ],
      "metadata": {
        "id": "_jgygcPgWunU"
      },
      "execution_count": 82,
      "outputs": []
    },
    {
      "cell_type": "code",
      "source": [
        "products = {\n",
        "    'Laptop': 10,\n",
        "    'Smartphone': 3,\n",
        "    'Headphones': 20,\n",
        "    'Monitor': 5,\n",
        "    'Mouse': 15\n",
        "}\n",
        "\n",
        "# Set the threshold for low stock\n",
        "threshold = 7\n",
        "\n",
        "check_stock(products, threshold)"
      ],
      "metadata": {
        "colab": {
          "base_uri": "https://localhost:8080/"
        },
        "id": "v8b4qn8rW34y",
        "outputId": "09a07d47-189e-4131-90de-3ca35cf60a7e"
      },
      "execution_count": 83,
      "outputs": [
        {
          "output_type": "stream",
          "name": "stdout",
          "text": [
            "Laptop is in stock with 10 units.\n",
            "Alert: Smartphone is low on stock (only 3 left). Consider restocking!\n",
            "Headphones is in stock with 20 units.\n",
            "Alert: Monitor is low on stock (only 5 left). Consider restocking!\n",
            "Mouse is in stock with 15 units.\n"
          ]
        }
      ]
    },
    {
      "cell_type": "markdown",
      "source": [
        "#Assignment 20: Write a function that calculates the factorial of a number and handles any potential errors."
      ],
      "metadata": {
        "id": "mq4lfcTxXAlQ"
      }
    },
    {
      "cell_type": "code",
      "source": [
        "def factorial(n):\n",
        "    try:\n",
        "        # Ensure the input is an integer\n",
        "        if not isinstance(n, int):\n",
        "            raise ValueError(\"Input must be an integer.\")\n",
        "\n",
        "        # Handle negative numbers\n",
        "        if n < 0:\n",
        "            raise ValueError(\"Factorial is not defined for negative numbers.\")\n",
        "\n",
        "        # Calculate the factorial using a loop\n",
        "        result = 1\n",
        "        for i in range(1, n + 1):\n",
        "            result *= i\n",
        "        return result\n",
        "\n",
        "    except ValueError as e:\n",
        "        return f\"Error: {e}\"\n",
        "    except Exception as e:\n",
        "        return f\"An unexpected error occurred: {e}\""
      ],
      "metadata": {
        "id": "ZL4KjDRzXSsE"
      },
      "execution_count": 84,
      "outputs": []
    },
    {
      "cell_type": "code",
      "source": [
        "print(factorial(5))\n",
        "print(factorial(-3))\n",
        "print(factorial('abc'))\n",
        "print(factorial(0))"
      ],
      "metadata": {
        "colab": {
          "base_uri": "https://localhost:8080/"
        },
        "id": "JsKzjDJhXbuN",
        "outputId": "13edd749-6a4e-4bfe-ff31-248eea79db1e"
      },
      "execution_count": 85,
      "outputs": [
        {
          "output_type": "stream",
          "name": "stdout",
          "text": [
            "120\n",
            "Error: Factorial is not defined for negative numbers.\n",
            "Error: Input must be an integer.\n",
            "1\n"
          ]
        }
      ]
    },
    {
      "cell_type": "markdown",
      "source": [
        "#Assignment 21: Write a script that reads a CSV file containing product information and converts it into a JSON file."
      ],
      "metadata": {
        "id": "649M5ye4X4W9"
      }
    },
    {
      "cell_type": "code",
      "source": [
        "import csv\n",
        "\n",
        "# Example 3: Writing to a CSV File\n",
        "with open('data/example.csv', 'w', newline='') as file:\n",
        "    writer = csv.writer(file)\n",
        "    writer.writerow([\"Name\", \"Age\", \"City\"])\n",
        "    writer.writerow([\"Alice\", 28, \"New York\"])\n",
        "    writer.writerow([\"Bob\", 22, \"Los Angeles\"])\n",
        "    writer.writerow([\"Carol\", 24, \"Chicago\"])\n"
      ],
      "metadata": {
        "id": "pdnVx6g1cVnt"
      },
      "execution_count": 93,
      "outputs": []
    },
    {
      "cell_type": "code",
      "source": [
        "with open('data/example.csv', 'r') as file:\n",
        "    reader = csv.reader(file)\n",
        "    for row in reader:\n",
        "        print(row)"
      ],
      "metadata": {
        "colab": {
          "base_uri": "https://localhost:8080/"
        },
        "id": "v4dCyqfGcobu",
        "outputId": "9852a69c-266e-43ef-a6f7-75886079ec0c"
      },
      "execution_count": 94,
      "outputs": [
        {
          "output_type": "stream",
          "name": "stdout",
          "text": [
            "['Name', 'Age', 'City']\n",
            "['Alice', '28', 'New York']\n",
            "['Bob', '22', 'Los Angeles']\n",
            "['Carol', '24', 'Chicago']\n"
          ]
        }
      ]
    },
    {
      "cell_type": "code",
      "source": [
        "users = [\n",
        "    {\"name\": \"Alice\", \"age\": 25, \"email\": \"alice@example.com\"},\n",
        "    {\"name\": \"Bob\", \"age\": 30, \"email\": \"bob@example.com\"}\n",
        "]\n",
        "with open('data/users.json', 'w') as file:\n",
        "    json.dump(users, file)\n",
        "\n",
        "with open('data/users.json', 'r') as file:\n",
        "    users = json.load(file)\n",
        "    for user in users:\n",
        "        print(f\"{user['name']} ({user['age']}): {user['email']}\")"
      ],
      "metadata": {
        "colab": {
          "base_uri": "https://localhost:8080/"
        },
        "id": "NVPxTVx6csO0",
        "outputId": "167da1ca-aa1c-4b64-b3ee-3ca167059cc0"
      },
      "execution_count": 95,
      "outputs": [
        {
          "output_type": "stream",
          "name": "stdout",
          "text": [
            "Alice (25): alice@example.com\n",
            "Bob (30): bob@example.com\n"
          ]
        }
      ]
    },
    {
      "cell_type": "code",
      "source": [
        "import csv\n",
        "import json\n",
        "\n",
        "# Function to convert CSV to JSON\n",
        "def csv_to_json(csv_filename, json_filename):\n",
        "    try:\n",
        "        # Open the CSV file for reading\n",
        "        with open(csv_filename, mode='r', newline='', encoding='utf-8') as csv_file:\n",
        "            csv_reader = csv.DictReader(csv_file)\n",
        "            # Create an empty list to store the rows as dictionaries\n",
        "            products = []\n",
        "\n",
        "            # Read each row in the CSV and append it to the products list\n",
        "            for row in csv_reader:\n",
        "                products.append(row)\n",
        "\n",
        "            # Write the products list to a JSON file\n",
        "            with open(json_filename, mode='w', encoding='utf-8') as json_file:\n",
        "                json.dump(products, json_file, indent=4)\n",
        "            print(f\"CSV data has been successfully converted to {json_filename}.\")\n",
        "\n",
        "    except FileNotFoundError:\n",
        "        print(f\"Error: The file {csv_filename} does not exist.\")\n",
        "    except Exception as e:\n",
        "        print(f\"An unexpected error occurred: {e}\")\n",
        "\n",
        "# Example usage\n",
        "csv_filename = '/content/data/example.csv'  # Input CSV filename\n",
        "json_filename = '/content/data/users.json'  # Output JSON filename\n",
        "\n",
        "# Convert the CSV file to JSON\n",
        "csv_to_json(csv_filename, json_filename)\n"
      ],
      "metadata": {
        "colab": {
          "base_uri": "https://localhost:8080/"
        },
        "id": "LWBrYInHYUjm",
        "outputId": "70889a53-5b00-479b-f680-1ab696d239ef"
      },
      "execution_count": 97,
      "outputs": [
        {
          "output_type": "stream",
          "name": "stdout",
          "text": [
            "CSV data has been successfully converted to /content/data/users.json.\n"
          ]
        }
      ]
    },
    {
      "cell_type": "markdown",
      "source": [
        "#Assignment 22: Create a log file writer that appends log messages to a file with timestamps.\n",
        "\n"
      ],
      "metadata": {
        "id": "zqzuRvVua03L"
      }
    },
    {
      "cell_type": "code",
      "source": [
        "from datetime import datetime\n",
        "\n",
        "# Function to write log entries into a file\n",
        "def write_log_to_file(log_file):\n",
        "    # Log entries with their respective timestamps\n",
        "    log_entries = [\n",
        "        \"2024-12-17 10:00:00 - INFO - This is an info message.\",\n",
        "        \"2024-12-17 10:00:01 - WARNING - This is a warning message.\",\n",
        "        \"2024-12-17 10:00:02 - ERROR - This is an error message.\",\n",
        "        \"2024-12-17 10:00:03 - DEBUG - This is a debug message.\"\n",
        "    ]\n",
        "\n",
        "    # Open the file in append mode ('a') to add the log entries\n",
        "    with open(log_file, 'a') as file:\n",
        "        for entry in log_entries:\n",
        "            file.write(entry + '\\n')  # Write each log entry on a new line\n",
        "\n",
        "    print(f\"Log entries have been written to {log_file}\")\n",
        "\n",
        "# Example usage\n",
        "log_filename = 'manual_application.log'  # Log file name\n",
        "write_log_to_file(log_filename)"
      ],
      "metadata": {
        "colab": {
          "base_uri": "https://localhost:8080/"
        },
        "id": "rspM_cA2eyog",
        "outputId": "794dbb21-8666-441f-fb3a-941e08c99d1e"
      },
      "execution_count": 99,
      "outputs": [
        {
          "output_type": "stream",
          "name": "stdout",
          "text": [
            "Log entries have been written to manual_application.log\n"
          ]
        }
      ]
    },
    {
      "cell_type": "code",
      "source": [
        "import logging\n",
        "\n",
        "# Configure the logger\n",
        "def configure_logger(log_file):\n",
        "    # Set up logging to a file with timestamps\n",
        "    logging.basicConfig(\n",
        "        filename=log_file,               # Log file name\n",
        "        level=logging.DEBUG,             # Log level\n",
        "        format='%(asctime)s - %(levelname)s - %(message)s',  # Log format with timestamp\n",
        "        datefmt='%Y-%m-%d %H:%M:%S'       # Date format\n",
        "    )\n",
        "\n",
        "# Log function\n",
        "def write_log(message, level='INFO'):\n",
        "    # Choose log level\n",
        "    if level == 'INFO':\n",
        "        logging.info(message)\n",
        "    elif level == 'WARNING':\n",
        "        logging.warning(message)\n",
        "    elif level == 'ERROR':\n",
        "        logging.error(message)\n",
        "    else:\n",
        "        logging.debug(message)\n",
        "\n",
        "# Example usage\n",
        "log_filename = '/content/data/application.log'  # Log file name\n",
        "configure_logger(log_filename)\n",
        "\n",
        "# Write logs\n",
        "write_log(\"This is an info message.\", 'INFO')\n",
        "write_log(\"This is a warning message.\", 'WARNING')\n",
        "write_log(\"This is an error message.\", 'ERROR')\n",
        "write_log(\"This is a debug message.\", 'DEBUG')\n",
        "\n",
        "print(\"Log messages have been written to\", log_filename)"
      ],
      "metadata": {
        "colab": {
          "base_uri": "https://localhost:8080/"
        },
        "id": "8SgMqENFdrx9",
        "outputId": "ba02e6f1-bfcd-432e-d5f0-2107ff488560"
      },
      "execution_count": 102,
      "outputs": [
        {
          "output_type": "stream",
          "name": "stderr",
          "text": [
            "WARNING:root:This is a warning message.\n",
            "ERROR:root:This is an error message.\n"
          ]
        },
        {
          "output_type": "stream",
          "name": "stdout",
          "text": [
            "Log messages have been written to /content/data/application.log\n"
          ]
        }
      ]
    },
    {
      "cell_type": "markdown",
      "source": [
        "#Assignment 23: Write a function that calculates compound interest using the formula A = P(1 + r/n)^(nt)."
      ],
      "metadata": {
        "id": "2HBlIPGRfV5b"
      }
    },
    {
      "cell_type": "code",
      "source": [
        "def calculate_compound_interest(P, r, n, t):\n",
        "    # Compound interest formula\n",
        "    A = P * (1 + r / n) ** (n * t)\n",
        "\n",
        "    return A\n",
        "\n",
        "P = 1000  # Principal amount in dollars\n",
        "r = 0.05  # Annual interest rate (5%)\n",
        "n = 4  # Interest is compounded quarterly\n",
        "t = 5  # The money is invested for 5 years\n",
        "\n",
        "# Calculate compound interest\n",
        "final_amount = calculate_compound_interest(P, r, n, t)\n",
        "print(f\"The final amount after {t} years is: ${final_amount:.2f}\")"
      ],
      "metadata": {
        "colab": {
          "base_uri": "https://localhost:8080/"
        },
        "id": "kNhVb8oufrWH",
        "outputId": "35f3b63d-eb24-43b2-ac23-a8f8fc7416b1"
      },
      "execution_count": 103,
      "outputs": [
        {
          "output_type": "stream",
          "name": "stdout",
          "text": [
            "The final amount after 5 years is: $1282.04\n"
          ]
        }
      ]
    },
    {
      "cell_type": "markdown",
      "source": [
        "#Assignment 24: Create a script that prints the current time and updates every second."
      ],
      "metadata": {
        "id": "-DpuMj57f7DT"
      }
    },
    {
      "cell_type": "code",
      "source": [
        "import time\n",
        "\n",
        "def print_current_time():\n",
        "    try:\n",
        "        while True:\n",
        "            # Get the current time\n",
        "            current_time = time.strftime(\"%Y-%m-%d %H:%M:%S\", time.localtime())\n",
        "            # Clear the screen (works on most systems)\n",
        "            print(\"\\033[\\033[J\", end=\"\")\n",
        "            # Print the current time\n",
        "            print(f\"Current time: {current_time}\")\n",
        "            # Wait for 1 second before updating\n",
        "            time.sleep(1)\n",
        "    except KeyboardInterrupt:\n",
        "        print(\"\\nTime display stopped.\")\n",
        "\n",
        "# Run the function\n",
        "print_current_time()\n"
      ],
      "metadata": {
        "colab": {
          "base_uri": "https://localhost:8080/"
        },
        "id": "ynA1RoGFf5ZD",
        "outputId": "99ef164f-8085-4f58-f559-9ec1a843647c"
      },
      "execution_count": 105,
      "outputs": [
        {
          "output_type": "stream",
          "name": "stdout",
          "text": [
            "\u001b[\u001b[JCurrent time: 2024-12-17 16:50:15\n",
            "\u001b[\u001b[JCurrent time: 2024-12-17 16:50:16\n",
            "\u001b[\u001b[JCurrent time: 2024-12-17 16:50:17\n",
            "\u001b[\u001b[JCurrent time: 2024-12-17 16:50:18\n",
            "\u001b[\u001b[JCurrent time: 2024-12-17 16:50:19\n",
            "\u001b[\u001b[JCurrent time: 2024-12-17 16:50:20\n",
            "\u001b[\u001b[JCurrent time: 2024-12-17 16:50:21\n",
            "\u001b[\u001b[JCurrent time: 2024-12-17 16:50:22\n",
            "\u001b[\u001b[JCurrent time: 2024-12-17 16:50:23\n",
            "\n",
            "Time display stopped.\n"
          ]
        }
      ]
    },
    {
      "cell_type": "markdown",
      "source": [
        "#Assignemnt 25: Create a simple package with at least two modules, each containing one function."
      ],
      "metadata": {
        "id": "hqN2Lml5g2B7"
      }
    },
    {
      "cell_type": "code",
      "source": [
        "# __init__.py"
      ],
      "metadata": {
        "id": "BK5JwXTxgt7f"
      },
      "execution_count": 106,
      "outputs": []
    },
    {
      "cell_type": "code",
      "source": [
        "# module1.py\n",
        "\n",
        "def greet(name):\n",
        "    return f\"Hello, {name}!\"\n"
      ],
      "metadata": {
        "id": "dmP72dR-iFa3"
      },
      "execution_count": 109,
      "outputs": []
    },
    {
      "cell_type": "code",
      "source": [
        "# module2.py\n",
        "\n",
        "def add_numbers(a, b):\n",
        "    return a + b\n"
      ],
      "metadata": {
        "id": "f8hYGaMviHtN"
      },
      "execution_count": 110,
      "outputs": []
    }
  ]
}